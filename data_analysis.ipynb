{
 "cells": [
  {
   "cell_type": "code",
   "execution_count": 1,
   "metadata": {},
   "outputs": [
    {
     "name": "stderr",
     "output_type": "stream",
     "text": [
      "/home/monika/anaconda3/lib/python3.7/site-packages/weasyprint/document.py:36: UserWarning: There are known rendering problems and missing features with cairo < 1.15.4. WeasyPrint may work with older versions, but please read the note about the needed cairo version on the \"Install\" page of the documentation before reporting bugs. http://weasyprint.readthedocs.io/en/latest/install.html\n",
      "  'There are known rendering problems and missing features with '\n"
     ]
    }
   ],
   "source": [
    "import pandas as pd\n",
    "import numpy as np\n",
    "import matplotlib.pyplot as plt\n",
    "import math\n",
    "from jinja2 import Environment, FileSystemLoader, PackageLoader,select_autoescape\n",
    "from weasyprint import HTML\n",
    "import argparse\n"
   ]
  },
  {
   "cell_type": "markdown",
   "metadata": {},
   "source": [
    "## 1. Data upload from *.csv file"
   ]
  },
  {
   "cell_type": "code",
   "execution_count": 2,
   "metadata": {},
   "outputs": [],
   "source": [
    "df = pd.read_csv(\"/home/monika/Pulpit/Analiza ML Deep L/data092020.csv\", low_memory=False)"
   ]
  },
  {
   "cell_type": "markdown",
   "metadata": {},
   "source": [
    "## 2. Data clean up"
   ]
  },
  {
   "cell_type": "code",
   "execution_count": 3,
   "metadata": {},
   "outputs": [
    {
     "data": {
      "text/html": [
       "<div>\n",
       "<style scoped>\n",
       "    .dataframe tbody tr th:only-of-type {\n",
       "        vertical-align: middle;\n",
       "    }\n",
       "\n",
       "    .dataframe tbody tr th {\n",
       "        vertical-align: top;\n",
       "    }\n",
       "\n",
       "    .dataframe thead th {\n",
       "        text-align: right;\n",
       "    }\n",
       "</style>\n",
       "<table border=\"1\" class=\"dataframe\">\n",
       "  <thead>\n",
       "    <tr style=\"text-align: right;\">\n",
       "      <th></th>\n",
       "      <th>Customer - Street</th>\n",
       "      <th>Customer - city</th>\n",
       "      <th>Customer - ZIP</th>\n",
       "      <th>Customer - Name</th>\n",
       "      <th>Customer - Last name</th>\n",
       "      <th>Customer - Phone Number</th>\n",
       "      <th>Customer - Email</th>\n",
       "      <th>Customer - ID</th>\n",
       "      <th>Transaction - Date</th>\n",
       "      <th>Transaction - Product</th>\n",
       "      <th>Transaction - Category</th>\n",
       "      <th>Transaction - value</th>\n",
       "    </tr>\n",
       "  </thead>\n",
       "  <tbody>\n",
       "    <tr>\n",
       "      <th>0</th>\n",
       "      <td>ul. Jabłoni 133</td>\n",
       "      <td>Mikołów</td>\n",
       "      <td>43-195</td>\n",
       "      <td>Anastazy</td>\n",
       "      <td>Gorski</td>\n",
       "      <td>69 463 70 14</td>\n",
       "      <td>AnastazyGorski@rhyta.com</td>\n",
       "      <td>93942878199</td>\n",
       "      <td>01/06/19</td>\n",
       "      <td>WCKDG0</td>\n",
       "      <td>Shoes</td>\n",
       "      <td>270</td>\n",
       "    </tr>\n",
       "    <tr>\n",
       "      <th>1</th>\n",
       "      <td>ul. Brzozowa 7</td>\n",
       "      <td>Gryfice</td>\n",
       "      <td>72-302</td>\n",
       "      <td>Klementyna</td>\n",
       "      <td>Jaworska</td>\n",
       "      <td>79 241 25 29</td>\n",
       "      <td>KlementynaJaworska@rhyta.com</td>\n",
       "      <td>88321897199</td>\n",
       "      <td>22/08/17</td>\n",
       "      <td>WPUG1Y</td>\n",
       "      <td>Dress</td>\n",
       "      <td>126</td>\n",
       "    </tr>\n",
       "    <tr>\n",
       "      <th>2</th>\n",
       "      <td>ul. Chmielna 80</td>\n",
       "      <td>Katowice</td>\n",
       "      <td>40-655</td>\n",
       "      <td>Radosława</td>\n",
       "      <td>Jaworska</td>\n",
       "      <td>60 547 89 25</td>\n",
       "      <td>RadoslawaJaworska@jourrapide.com</td>\n",
       "      <td>91450567099</td>\n",
       "      <td>10/05/17</td>\n",
       "      <td>SPZMMU</td>\n",
       "      <td>Poloshirt</td>\n",
       "      <td>334</td>\n",
       "    </tr>\n",
       "    <tr>\n",
       "      <th>3</th>\n",
       "      <td>ul. Długa 147</td>\n",
       "      <td>Zabrze</td>\n",
       "      <td>41-800</td>\n",
       "      <td>Ewa</td>\n",
       "      <td>Pawlak</td>\n",
       "      <td>60 136 40 08</td>\n",
       "      <td>EwaPawlak@armyspy.com</td>\n",
       "      <td>19607888799</td>\n",
       "      <td>29/11/18</td>\n",
       "      <td>F7U2HD</td>\n",
       "      <td>Dress</td>\n",
       "      <td>329</td>\n",
       "    </tr>\n",
       "    <tr>\n",
       "      <th>4</th>\n",
       "      <td>ul. Dziubińskiej Heleny 149</td>\n",
       "      <td>Lublin</td>\n",
       "      <td>20-252</td>\n",
       "      <td>Elżbieta</td>\n",
       "      <td>Majewska</td>\n",
       "      <td>79 400 67 58</td>\n",
       "      <td>ElzbietaMajewska@gustr.com</td>\n",
       "      <td>72485440099</td>\n",
       "      <td>15/03/17</td>\n",
       "      <td>32DCQA</td>\n",
       "      <td>T-shirt</td>\n",
       "      <td>42</td>\n",
       "    </tr>\n",
       "  </tbody>\n",
       "</table>\n",
       "</div>"
      ],
      "text/plain": [
       "             Customer - Street Customer - city Customer - ZIP Customer - Name  \\\n",
       "0              ul. Jabłoni 133         Mikołów         43-195        Anastazy   \n",
       "1               ul. Brzozowa 7         Gryfice         72-302      Klementyna   \n",
       "2              ul. Chmielna 80        Katowice         40-655       Radosława   \n",
       "3                ul. Długa 147          Zabrze         41-800             Ewa   \n",
       "4  ul. Dziubińskiej Heleny 149          Lublin         20-252        Elżbieta   \n",
       "\n",
       "  Customer - Last name Customer - Phone Number  \\\n",
       "0               Gorski            69 463 70 14   \n",
       "1             Jaworska            79 241 25 29   \n",
       "2             Jaworska            60 547 89 25   \n",
       "3               Pawlak            60 136 40 08   \n",
       "4             Majewska            79 400 67 58   \n",
       "\n",
       "                   Customer - Email Customer - ID Transaction - Date  \\\n",
       "0          AnastazyGorski@rhyta.com   93942878199           01/06/19   \n",
       "1      KlementynaJaworska@rhyta.com   88321897199           22/08/17   \n",
       "2  RadoslawaJaworska@jourrapide.com   91450567099           10/05/17   \n",
       "3             EwaPawlak@armyspy.com   19607888799           29/11/18   \n",
       "4        ElzbietaMajewska@gustr.com   72485440099           15/03/17   \n",
       "\n",
       "  Transaction - Product Transaction - Category Transaction - value  \n",
       "0                WCKDG0                  Shoes                 270  \n",
       "1                WPUG1Y                  Dress                 126  \n",
       "2                SPZMMU              Poloshirt                 334  \n",
       "3                F7U2HD                  Dress                 329  \n",
       "4                32DCQA                T-shirt                  42  "
      ]
     },
     "execution_count": 3,
     "metadata": {},
     "output_type": "execute_result"
    }
   ],
   "source": [
    "df.head()"
   ]
  },
  {
   "cell_type": "code",
   "execution_count": 4,
   "metadata": {},
   "outputs": [
    {
     "name": "stdout",
     "output_type": "stream",
     "text": [
      "<class 'pandas.core.frame.DataFrame'>\n",
      "RangeIndex: 12119 entries, 0 to 12118\n",
      "Data columns (total 12 columns):\n",
      "Customer - Street          12119 non-null object\n",
      "Customer - city            12119 non-null object\n",
      "Customer - ZIP             12119 non-null object\n",
      "Customer - Name            12119 non-null object\n",
      "Customer - Last name       12119 non-null object\n",
      "Customer - Phone Number    12119 non-null object\n",
      "Customer - Email           12119 non-null object\n",
      "Customer - ID              12119 non-null object\n",
      "Transaction - Date         12119 non-null object\n",
      "Transaction - Product      12089 non-null object\n",
      "Transaction - Category     12088 non-null object\n",
      "Transaction - value        12088 non-null object\n",
      "dtypes: object(12)\n",
      "memory usage: 9.9 MB\n"
     ]
    }
   ],
   "source": [
    "df.info(memory_usage='deep')"
   ]
  },
  {
   "cell_type": "code",
   "execution_count": 5,
   "metadata": {},
   "outputs": [
    {
     "data": {
      "text/plain": [
       "Customer - Street          object\n",
       "Customer - city            object\n",
       "Customer - ZIP             object\n",
       "Customer - Name            object\n",
       "Customer - Last name       object\n",
       "Customer - Phone Number    object\n",
       "Customer - Email           object\n",
       "Customer - ID              object\n",
       "Transaction - Date         object\n",
       "Transaction - Product      object\n",
       "Transaction - Category     object\n",
       "Transaction - value        object\n",
       "dtype: object"
      ]
     },
     "execution_count": 5,
     "metadata": {},
     "output_type": "execute_result"
    }
   ],
   "source": [
    "df.dtypes"
   ]
  },
  {
   "cell_type": "code",
   "execution_count": 6,
   "metadata": {},
   "outputs": [],
   "source": [
    "columns = df.columns"
   ]
  },
  {
   "cell_type": "code",
   "execution_count": 7,
   "metadata": {},
   "outputs": [
    {
     "data": {
      "text/plain": [
       "Index(['Customer - Street', 'Customer - city', 'Customer - ZIP',\n",
       "       'Customer - Name', 'Customer - Last name', 'Customer - Phone Number',\n",
       "       'Customer - Email', 'Customer - ID', 'Transaction - Date',\n",
       "       'Transaction - Product', 'Transaction - Category',\n",
       "       'Transaction - value'],\n",
       "      dtype='object')"
      ]
     },
     "execution_count": 7,
     "metadata": {},
     "output_type": "execute_result"
    }
   ],
   "source": [
    "columns"
   ]
  },
  {
   "cell_type": "code",
   "execution_count": 8,
   "metadata": {},
   "outputs": [],
   "source": [
    "new_columns_names={}\n",
    "\n",
    "for column in columns:\n",
    "    new_columns_names[column]=column.split()[-1].lower()    "
   ]
  },
  {
   "cell_type": "code",
   "execution_count": 9,
   "metadata": {},
   "outputs": [
    {
     "data": {
      "text/plain": [
       "{'Customer - Street': 'street',\n",
       " 'Customer - city': 'city',\n",
       " 'Customer - ZIP': 'zip',\n",
       " 'Customer - Name': 'name',\n",
       " 'Customer - Last name': 'name',\n",
       " 'Customer - Phone Number': 'number',\n",
       " 'Customer - Email': 'email',\n",
       " 'Customer - ID': 'id',\n",
       " 'Transaction - Date': 'date',\n",
       " 'Transaction - Product': 'product',\n",
       " 'Transaction - Category': 'category',\n",
       " 'Transaction - value': 'value'}"
      ]
     },
     "execution_count": 9,
     "metadata": {},
     "output_type": "execute_result"
    }
   ],
   "source": [
    "new_columns_names"
   ]
  },
  {
   "cell_type": "code",
   "execution_count": 10,
   "metadata": {},
   "outputs": [],
   "source": [
    "new_columns_names['Customer - Name']='first_name'\n",
    "new_columns_names['Customer - Last name']='last_name'"
   ]
  },
  {
   "cell_type": "code",
   "execution_count": 11,
   "metadata": {},
   "outputs": [
    {
     "data": {
      "text/plain": [
       "{'Customer - Street': 'street',\n",
       " 'Customer - city': 'city',\n",
       " 'Customer - ZIP': 'zip',\n",
       " 'Customer - Name': 'first_name',\n",
       " 'Customer - Last name': 'last_name',\n",
       " 'Customer - Phone Number': 'number',\n",
       " 'Customer - Email': 'email',\n",
       " 'Customer - ID': 'id',\n",
       " 'Transaction - Date': 'date',\n",
       " 'Transaction - Product': 'product',\n",
       " 'Transaction - Category': 'category',\n",
       " 'Transaction - value': 'value'}"
      ]
     },
     "execution_count": 11,
     "metadata": {},
     "output_type": "execute_result"
    }
   ],
   "source": [
    "new_columns_names"
   ]
  },
  {
   "cell_type": "code",
   "execution_count": 12,
   "metadata": {},
   "outputs": [],
   "source": [
    "df=df.rename(columns=new_columns_names)"
   ]
  },
  {
   "cell_type": "code",
   "execution_count": 13,
   "metadata": {},
   "outputs": [
    {
     "name": "stdout",
     "output_type": "stream",
     "text": [
      "<class 'pandas.core.frame.DataFrame'>\n",
      "RangeIndex: 12119 entries, 0 to 12118\n",
      "Data columns (total 12 columns):\n",
      "street        12119 non-null object\n",
      "city          12119 non-null object\n",
      "zip           12119 non-null object\n",
      "first_name    12119 non-null object\n",
      "last_name     12119 non-null object\n",
      "number        12119 non-null object\n",
      "email         12119 non-null object\n",
      "id            12119 non-null object\n",
      "date          12119 non-null object\n",
      "product       12089 non-null object\n",
      "category      12088 non-null object\n",
      "value         12088 non-null object\n",
      "dtypes: object(12)\n",
      "memory usage: 9.9 MB\n"
     ]
    }
   ],
   "source": [
    "df.info(memory_usage='deep')"
   ]
  },
  {
   "cell_type": "code",
   "execution_count": 14,
   "metadata": {},
   "outputs": [],
   "source": [
    "df=df.drop(columns=['street','city','zip','first_name', 'last_name', 'email', 'number'])"
   ]
  },
  {
   "cell_type": "code",
   "execution_count": 15,
   "metadata": {},
   "outputs": [
    {
     "name": "stdout",
     "output_type": "stream",
     "text": [
      "<class 'pandas.core.frame.DataFrame'>\n",
      "RangeIndex: 12119 entries, 0 to 12118\n",
      "Data columns (total 5 columns):\n",
      "id          12119 non-null object\n",
      "date        12119 non-null object\n",
      "product     12089 non-null object\n",
      "category    12088 non-null object\n",
      "value       12088 non-null object\n",
      "dtypes: object(5)\n",
      "memory usage: 3.7 MB\n"
     ]
    }
   ],
   "source": [
    "df.info(memory_usage='deep')"
   ]
  },
  {
   "cell_type": "code",
   "execution_count": 16,
   "metadata": {},
   "outputs": [
    {
     "data": {
      "text/html": [
       "<div>\n",
       "<style scoped>\n",
       "    .dataframe tbody tr th:only-of-type {\n",
       "        vertical-align: middle;\n",
       "    }\n",
       "\n",
       "    .dataframe tbody tr th {\n",
       "        vertical-align: top;\n",
       "    }\n",
       "\n",
       "    .dataframe thead th {\n",
       "        text-align: right;\n",
       "    }\n",
       "</style>\n",
       "<table border=\"1\" class=\"dataframe\">\n",
       "  <thead>\n",
       "    <tr style=\"text-align: right;\">\n",
       "      <th></th>\n",
       "      <th>id</th>\n",
       "      <th>date</th>\n",
       "      <th>product</th>\n",
       "      <th>category</th>\n",
       "      <th>value</th>\n",
       "    </tr>\n",
       "  </thead>\n",
       "  <tbody>\n",
       "    <tr>\n",
       "      <th>0</th>\n",
       "      <td>93942878199</td>\n",
       "      <td>01/06/19</td>\n",
       "      <td>WCKDG0</td>\n",
       "      <td>Shoes</td>\n",
       "      <td>270</td>\n",
       "    </tr>\n",
       "    <tr>\n",
       "      <th>1</th>\n",
       "      <td>88321897199</td>\n",
       "      <td>22/08/17</td>\n",
       "      <td>WPUG1Y</td>\n",
       "      <td>Dress</td>\n",
       "      <td>126</td>\n",
       "    </tr>\n",
       "    <tr>\n",
       "      <th>2</th>\n",
       "      <td>91450567099</td>\n",
       "      <td>10/05/17</td>\n",
       "      <td>SPZMMU</td>\n",
       "      <td>Poloshirt</td>\n",
       "      <td>334</td>\n",
       "    </tr>\n",
       "    <tr>\n",
       "      <th>3</th>\n",
       "      <td>19607888799</td>\n",
       "      <td>29/11/18</td>\n",
       "      <td>F7U2HD</td>\n",
       "      <td>Dress</td>\n",
       "      <td>329</td>\n",
       "    </tr>\n",
       "    <tr>\n",
       "      <th>4</th>\n",
       "      <td>72485440099</td>\n",
       "      <td>15/03/17</td>\n",
       "      <td>32DCQA</td>\n",
       "      <td>T-shirt</td>\n",
       "      <td>42</td>\n",
       "    </tr>\n",
       "  </tbody>\n",
       "</table>\n",
       "</div>"
      ],
      "text/plain": [
       "            id      date product   category value\n",
       "0  93942878199  01/06/19  WCKDG0      Shoes   270\n",
       "1  88321897199  22/08/17  WPUG1Y      Dress   126\n",
       "2  91450567099  10/05/17  SPZMMU  Poloshirt   334\n",
       "3  19607888799  29/11/18  F7U2HD      Dress   329\n",
       "4  72485440099  15/03/17  32DCQA    T-shirt    42"
      ]
     },
     "execution_count": 16,
     "metadata": {},
     "output_type": "execute_result"
    }
   ],
   "source": [
    "df.head()"
   ]
  },
  {
   "cell_type": "code",
   "execution_count": 17,
   "metadata": {},
   "outputs": [],
   "source": [
    "def get_month_from_date(var):\n",
    "    try:\n",
    "        return var.split(\"/\")[1]\n",
    "    except:\n",
    "        return None"
   ]
  },
  {
   "cell_type": "code",
   "execution_count": 18,
   "metadata": {},
   "outputs": [
    {
     "data": {
      "text/plain": [
       "'06'"
      ]
     },
     "execution_count": 18,
     "metadata": {},
     "output_type": "execute_result"
    }
   ],
   "source": [
    "get_month_from_date('01/06/19')"
   ]
  },
  {
   "cell_type": "code",
   "execution_count": 19,
   "metadata": {},
   "outputs": [],
   "source": [
    "data_temp= df['date'].apply(get_month_from_date)"
   ]
  },
  {
   "cell_type": "code",
   "execution_count": 20,
   "metadata": {},
   "outputs": [
    {
     "data": {
      "text/plain": [
       "0        06\n",
       "1        08\n",
       "2        05\n",
       "3        11\n",
       "4        03\n",
       "5        04\n",
       "6        08\n",
       "7        07\n",
       "8        08\n",
       "9        04\n",
       "10       01\n",
       "11       05\n",
       "12       12\n",
       "13       02\n",
       "14       02\n",
       "15       07\n",
       "16       05\n",
       "17       11\n",
       "18       05\n",
       "19       11\n",
       "20       09\n",
       "21       01\n",
       "22       05\n",
       "23       02\n",
       "24       04\n",
       "25       07\n",
       "26       06\n",
       "27       09\n",
       "28       07\n",
       "29       12\n",
       "         ..\n",
       "12089    08\n",
       "12090    11\n",
       "12091    08\n",
       "12092    05\n",
       "12093    03\n",
       "12094    05\n",
       "12095    11\n",
       "12096    09\n",
       "12097    04\n",
       "12098    06\n",
       "12099    06\n",
       "12100    04\n",
       "12101    04\n",
       "12102    09\n",
       "12103    07\n",
       "12104    11\n",
       "12105    12\n",
       "12106    12\n",
       "12107    04\n",
       "12108    03\n",
       "12109    02\n",
       "12110    04\n",
       "12111    05\n",
       "12112    01\n",
       "12113    06\n",
       "12114    02\n",
       "12115    08\n",
       "12116    10\n",
       "12117    08\n",
       "12118    02\n",
       "Name: date, Length: 12119, dtype: object"
      ]
     },
     "execution_count": 20,
     "metadata": {},
     "output_type": "execute_result"
    }
   ],
   "source": [
    "data_temp"
   ]
  },
  {
   "cell_type": "code",
   "execution_count": 21,
   "metadata": {},
   "outputs": [],
   "source": [
    "def drop_txt(value):\n",
    "    try: \n",
    "        return int(value)\n",
    "    except:\n",
    "        return None"
   ]
  },
  {
   "cell_type": "code",
   "execution_count": 22,
   "metadata": {},
   "outputs": [],
   "source": [
    "df['month']=data_temp"
   ]
  },
  {
   "cell_type": "code",
   "execution_count": 23,
   "metadata": {},
   "outputs": [
    {
     "name": "stdout",
     "output_type": "stream",
     "text": [
      "<class 'pandas.core.frame.DataFrame'>\n",
      "RangeIndex: 12119 entries, 0 to 12118\n",
      "Data columns (total 6 columns):\n",
      "id          12119 non-null object\n",
      "date        12119 non-null object\n",
      "product     12089 non-null object\n",
      "category    12088 non-null object\n",
      "value       12088 non-null object\n",
      "month       12000 non-null object\n",
      "dtypes: object(6)\n",
      "memory usage: 4.4 MB\n"
     ]
    }
   ],
   "source": [
    "df.info(memory_usage='deep')"
   ]
  },
  {
   "cell_type": "code",
   "execution_count": 24,
   "metadata": {},
   "outputs": [
    {
     "data": {
      "text/html": [
       "<div>\n",
       "<style scoped>\n",
       "    .dataframe tbody tr th:only-of-type {\n",
       "        vertical-align: middle;\n",
       "    }\n",
       "\n",
       "    .dataframe tbody tr th {\n",
       "        vertical-align: top;\n",
       "    }\n",
       "\n",
       "    .dataframe thead th {\n",
       "        text-align: right;\n",
       "    }\n",
       "</style>\n",
       "<table border=\"1\" class=\"dataframe\">\n",
       "  <thead>\n",
       "    <tr style=\"text-align: right;\">\n",
       "      <th></th>\n",
       "      <th>id</th>\n",
       "      <th>date</th>\n",
       "      <th>product</th>\n",
       "      <th>category</th>\n",
       "      <th>value</th>\n",
       "      <th>month</th>\n",
       "    </tr>\n",
       "  </thead>\n",
       "  <tbody>\n",
       "    <tr>\n",
       "      <th>0</th>\n",
       "      <td>93942878199</td>\n",
       "      <td>01/06/19</td>\n",
       "      <td>WCKDG0</td>\n",
       "      <td>Shoes</td>\n",
       "      <td>270</td>\n",
       "      <td>06</td>\n",
       "    </tr>\n",
       "    <tr>\n",
       "      <th>1</th>\n",
       "      <td>88321897199</td>\n",
       "      <td>22/08/17</td>\n",
       "      <td>WPUG1Y</td>\n",
       "      <td>Dress</td>\n",
       "      <td>126</td>\n",
       "      <td>08</td>\n",
       "    </tr>\n",
       "    <tr>\n",
       "      <th>2</th>\n",
       "      <td>91450567099</td>\n",
       "      <td>10/05/17</td>\n",
       "      <td>SPZMMU</td>\n",
       "      <td>Poloshirt</td>\n",
       "      <td>334</td>\n",
       "      <td>05</td>\n",
       "    </tr>\n",
       "    <tr>\n",
       "      <th>3</th>\n",
       "      <td>19607888799</td>\n",
       "      <td>29/11/18</td>\n",
       "      <td>F7U2HD</td>\n",
       "      <td>Dress</td>\n",
       "      <td>329</td>\n",
       "      <td>11</td>\n",
       "    </tr>\n",
       "    <tr>\n",
       "      <th>4</th>\n",
       "      <td>72485440099</td>\n",
       "      <td>15/03/17</td>\n",
       "      <td>32DCQA</td>\n",
       "      <td>T-shirt</td>\n",
       "      <td>42</td>\n",
       "      <td>03</td>\n",
       "    </tr>\n",
       "  </tbody>\n",
       "</table>\n",
       "</div>"
      ],
      "text/plain": [
       "            id      date product   category value month\n",
       "0  93942878199  01/06/19  WCKDG0      Shoes   270    06\n",
       "1  88321897199  22/08/17  WPUG1Y      Dress   126    08\n",
       "2  91450567099  10/05/17  SPZMMU  Poloshirt   334    05\n",
       "3  19607888799  29/11/18  F7U2HD      Dress   329    11\n",
       "4  72485440099  15/03/17  32DCQA    T-shirt    42    03"
      ]
     },
     "execution_count": 24,
     "metadata": {},
     "output_type": "execute_result"
    }
   ],
   "source": [
    "df.head()"
   ]
  },
  {
   "cell_type": "code",
   "execution_count": 25,
   "metadata": {},
   "outputs": [],
   "source": [
    "df=df.dropna()"
   ]
  },
  {
   "cell_type": "code",
   "execution_count": 26,
   "metadata": {},
   "outputs": [
    {
     "name": "stdout",
     "output_type": "stream",
     "text": [
      "<class 'pandas.core.frame.DataFrame'>\n",
      "Int64Index: 11970 entries, 0 to 12118\n",
      "Data columns (total 6 columns):\n",
      "id          11970 non-null object\n",
      "date        11970 non-null object\n",
      "product     11970 non-null object\n",
      "category    11970 non-null object\n",
      "value       11970 non-null object\n",
      "month       11970 non-null object\n",
      "dtypes: object(6)\n",
      "memory usage: 4.4 MB\n"
     ]
    }
   ],
   "source": [
    "df.info(memory_usage='deep')"
   ]
  },
  {
   "cell_type": "code",
   "execution_count": 27,
   "metadata": {},
   "outputs": [],
   "source": [
    "df['sales']=1"
   ]
  },
  {
   "cell_type": "code",
   "execution_count": 28,
   "metadata": {},
   "outputs": [
    {
     "data": {
      "text/html": [
       "<div>\n",
       "<style scoped>\n",
       "    .dataframe tbody tr th:only-of-type {\n",
       "        vertical-align: middle;\n",
       "    }\n",
       "\n",
       "    .dataframe tbody tr th {\n",
       "        vertical-align: top;\n",
       "    }\n",
       "\n",
       "    .dataframe thead th {\n",
       "        text-align: right;\n",
       "    }\n",
       "</style>\n",
       "<table border=\"1\" class=\"dataframe\">\n",
       "  <thead>\n",
       "    <tr style=\"text-align: right;\">\n",
       "      <th></th>\n",
       "      <th>id</th>\n",
       "      <th>date</th>\n",
       "      <th>product</th>\n",
       "      <th>category</th>\n",
       "      <th>value</th>\n",
       "      <th>month</th>\n",
       "      <th>sales</th>\n",
       "    </tr>\n",
       "  </thead>\n",
       "  <tbody>\n",
       "    <tr>\n",
       "      <th>0</th>\n",
       "      <td>93942878199</td>\n",
       "      <td>01/06/19</td>\n",
       "      <td>WCKDG0</td>\n",
       "      <td>Shoes</td>\n",
       "      <td>270</td>\n",
       "      <td>06</td>\n",
       "      <td>1</td>\n",
       "    </tr>\n",
       "    <tr>\n",
       "      <th>1</th>\n",
       "      <td>88321897199</td>\n",
       "      <td>22/08/17</td>\n",
       "      <td>WPUG1Y</td>\n",
       "      <td>Dress</td>\n",
       "      <td>126</td>\n",
       "      <td>08</td>\n",
       "      <td>1</td>\n",
       "    </tr>\n",
       "    <tr>\n",
       "      <th>2</th>\n",
       "      <td>91450567099</td>\n",
       "      <td>10/05/17</td>\n",
       "      <td>SPZMMU</td>\n",
       "      <td>Poloshirt</td>\n",
       "      <td>334</td>\n",
       "      <td>05</td>\n",
       "      <td>1</td>\n",
       "    </tr>\n",
       "    <tr>\n",
       "      <th>3</th>\n",
       "      <td>19607888799</td>\n",
       "      <td>29/11/18</td>\n",
       "      <td>F7U2HD</td>\n",
       "      <td>Dress</td>\n",
       "      <td>329</td>\n",
       "      <td>11</td>\n",
       "      <td>1</td>\n",
       "    </tr>\n",
       "    <tr>\n",
       "      <th>4</th>\n",
       "      <td>72485440099</td>\n",
       "      <td>15/03/17</td>\n",
       "      <td>32DCQA</td>\n",
       "      <td>T-shirt</td>\n",
       "      <td>42</td>\n",
       "      <td>03</td>\n",
       "      <td>1</td>\n",
       "    </tr>\n",
       "  </tbody>\n",
       "</table>\n",
       "</div>"
      ],
      "text/plain": [
       "            id      date product   category value month  sales\n",
       "0  93942878199  01/06/19  WCKDG0      Shoes   270    06      1\n",
       "1  88321897199  22/08/17  WPUG1Y      Dress   126    08      1\n",
       "2  91450567099  10/05/17  SPZMMU  Poloshirt   334    05      1\n",
       "3  19607888799  29/11/18  F7U2HD      Dress   329    11      1\n",
       "4  72485440099  15/03/17  32DCQA    T-shirt    42    03      1"
      ]
     },
     "execution_count": 28,
     "metadata": {},
     "output_type": "execute_result"
    }
   ],
   "source": [
    "df.head()"
   ]
  },
  {
   "cell_type": "markdown",
   "metadata": {},
   "source": [
    "## 3. Show selected data"
   ]
  },
  {
   "cell_type": "code",
   "execution_count": 29,
   "metadata": {},
   "outputs": [
    {
     "name": "stdout",
     "output_type": "stream",
     "text": [
      "Show sales in September\n"
     ]
    },
    {
     "data": {
      "text/html": [
       "<div>\n",
       "<style scoped>\n",
       "    .dataframe tbody tr th:only-of-type {\n",
       "        vertical-align: middle;\n",
       "    }\n",
       "\n",
       "    .dataframe tbody tr th {\n",
       "        vertical-align: top;\n",
       "    }\n",
       "\n",
       "    .dataframe thead th {\n",
       "        text-align: right;\n",
       "    }\n",
       "</style>\n",
       "<table border=\"1\" class=\"dataframe\">\n",
       "  <thead>\n",
       "    <tr style=\"text-align: right;\">\n",
       "      <th></th>\n",
       "      <th>id</th>\n",
       "      <th>date</th>\n",
       "      <th>product</th>\n",
       "      <th>category</th>\n",
       "      <th>value</th>\n",
       "      <th>month</th>\n",
       "      <th>sales</th>\n",
       "    </tr>\n",
       "  </thead>\n",
       "  <tbody>\n",
       "    <tr>\n",
       "      <th>20</th>\n",
       "      <td>35412006399</td>\n",
       "      <td>15/09/17</td>\n",
       "      <td>A4KI3Z</td>\n",
       "      <td>Boots</td>\n",
       "      <td>112</td>\n",
       "      <td>09</td>\n",
       "      <td>1</td>\n",
       "    </tr>\n",
       "    <tr>\n",
       "      <th>27</th>\n",
       "      <td>5520546599</td>\n",
       "      <td>09/09/18</td>\n",
       "      <td>PWNVBV</td>\n",
       "      <td>Shorts</td>\n",
       "      <td>278</td>\n",
       "      <td>09</td>\n",
       "      <td>1</td>\n",
       "    </tr>\n",
       "    <tr>\n",
       "      <th>37</th>\n",
       "      <td>14237373899</td>\n",
       "      <td>21/09/19</td>\n",
       "      <td>JL1D5C</td>\n",
       "      <td>Skirt</td>\n",
       "      <td>40</td>\n",
       "      <td>09</td>\n",
       "      <td>1</td>\n",
       "    </tr>\n",
       "    <tr>\n",
       "      <th>45</th>\n",
       "      <td>71491678599</td>\n",
       "      <td>17/09/19</td>\n",
       "      <td>SWKTC4</td>\n",
       "      <td>Sweater</td>\n",
       "      <td>269</td>\n",
       "      <td>09</td>\n",
       "      <td>1</td>\n",
       "    </tr>\n",
       "    <tr>\n",
       "      <th>54</th>\n",
       "      <td>72226973699</td>\n",
       "      <td>05/09/17</td>\n",
       "      <td>SH9PTS</td>\n",
       "      <td>Shorts</td>\n",
       "      <td>307</td>\n",
       "      <td>09</td>\n",
       "      <td>1</td>\n",
       "    </tr>\n",
       "    <tr>\n",
       "      <th>64</th>\n",
       "      <td>44682647299</td>\n",
       "      <td>16/09/19</td>\n",
       "      <td>32U93N</td>\n",
       "      <td>Sunglasses</td>\n",
       "      <td>349</td>\n",
       "      <td>09</td>\n",
       "      <td>1</td>\n",
       "    </tr>\n",
       "    <tr>\n",
       "      <th>71</th>\n",
       "      <td>9836836499</td>\n",
       "      <td>01/09/19</td>\n",
       "      <td>QTZ7YA</td>\n",
       "      <td>Highheels</td>\n",
       "      <td>289</td>\n",
       "      <td>09</td>\n",
       "      <td>1</td>\n",
       "    </tr>\n",
       "    <tr>\n",
       "      <th>76</th>\n",
       "      <td>69932693299</td>\n",
       "      <td>12/09/18</td>\n",
       "      <td>MMMXA0</td>\n",
       "      <td>Highheels</td>\n",
       "      <td>85</td>\n",
       "      <td>09</td>\n",
       "      <td>1</td>\n",
       "    </tr>\n",
       "    <tr>\n",
       "      <th>83</th>\n",
       "      <td>25244739299</td>\n",
       "      <td>05/09/19</td>\n",
       "      <td>IBLFRO</td>\n",
       "      <td>T-shirt</td>\n",
       "      <td>333</td>\n",
       "      <td>09</td>\n",
       "      <td>1</td>\n",
       "    </tr>\n",
       "    <tr>\n",
       "      <th>86</th>\n",
       "      <td>25650533499</td>\n",
       "      <td>19/09/19</td>\n",
       "      <td>47WOC9</td>\n",
       "      <td>Jeans</td>\n",
       "      <td>148</td>\n",
       "      <td>09</td>\n",
       "      <td>1</td>\n",
       "    </tr>\n",
       "  </tbody>\n",
       "</table>\n",
       "</div>"
      ],
      "text/plain": [
       "             id      date product    category value month  sales\n",
       "20  35412006399  15/09/17  A4KI3Z       Boots   112    09      1\n",
       "27   5520546599  09/09/18  PWNVBV      Shorts   278    09      1\n",
       "37  14237373899  21/09/19  JL1D5C       Skirt    40    09      1\n",
       "45  71491678599  17/09/19  SWKTC4     Sweater   269    09      1\n",
       "54  72226973699  05/09/17  SH9PTS      Shorts   307    09      1\n",
       "64  44682647299  16/09/19  32U93N  Sunglasses   349    09      1\n",
       "71   9836836499  01/09/19  QTZ7YA   Highheels   289    09      1\n",
       "76  69932693299  12/09/18  MMMXA0   Highheels    85    09      1\n",
       "83  25244739299  05/09/19  IBLFRO     T-shirt   333    09      1\n",
       "86  25650533499  19/09/19  47WOC9       Jeans   148    09      1"
      ]
     },
     "metadata": {},
     "output_type": "display_data"
    }
   ],
   "source": [
    "print(\"Show sales in September\")\n",
    "display(df.loc[df.month.isin(['09'])].head(10))"
   ]
  },
  {
   "cell_type": "code",
   "execution_count": 30,
   "metadata": {},
   "outputs": [],
   "source": [
    "df_09_cumulative=df[df['month']=='09']"
   ]
  },
  {
   "cell_type": "code",
   "execution_count": 31,
   "metadata": {},
   "outputs": [
    {
     "name": "stdout",
     "output_type": "stream",
     "text": [
      "<class 'pandas.core.frame.DataFrame'>\n",
      "Int64Index: 1032 entries, 20 to 12102\n",
      "Data columns (total 7 columns):\n",
      "id          1032 non-null object\n",
      "date        1032 non-null object\n",
      "product     1032 non-null object\n",
      "category    1032 non-null object\n",
      "value       1032 non-null object\n",
      "month       1032 non-null object\n",
      "sales       1032 non-null int64\n",
      "dtypes: int64(1), object(6)\n",
      "memory usage: 64.5+ KB\n"
     ]
    }
   ],
   "source": [
    "df_09_cumulative.info()"
   ]
  },
  {
   "cell_type": "code",
   "execution_count": 32,
   "metadata": {},
   "outputs": [],
   "source": [
    "column = df_09_cumulative['value'].astype('int')"
   ]
  },
  {
   "cell_type": "code",
   "execution_count": 33,
   "metadata": {},
   "outputs": [
    {
     "name": "stderr",
     "output_type": "stream",
     "text": [
      "/home/monika/anaconda3/lib/python3.7/site-packages/ipykernel_launcher.py:1: SettingWithCopyWarning: \n",
      "A value is trying to be set on a copy of a slice from a DataFrame.\n",
      "Try using .loc[row_indexer,col_indexer] = value instead\n",
      "\n",
      "See the caveats in the documentation: http://pandas.pydata.org/pandas-docs/stable/indexing.html#indexing-view-versus-copy\n",
      "  \"\"\"Entry point for launching an IPython kernel.\n"
     ]
    }
   ],
   "source": [
    "df_09_cumulative['value']=column"
   ]
  },
  {
   "cell_type": "code",
   "execution_count": 34,
   "metadata": {},
   "outputs": [],
   "source": [
    "pt_category_09_cumulative = df_09_cumulative.pivot_table(index='category', values =['sales', 'value'], aggfunc={'sales':'sum', 'value':'sum'})"
   ]
  },
  {
   "cell_type": "code",
   "execution_count": 35,
   "metadata": {},
   "outputs": [],
   "source": [
    "pt_category_09_cumulative['value']/=100"
   ]
  },
  {
   "cell_type": "code",
   "execution_count": 36,
   "metadata": {},
   "outputs": [
    {
     "data": {
      "text/html": [
       "<div>\n",
       "<style scoped>\n",
       "    .dataframe tbody tr th:only-of-type {\n",
       "        vertical-align: middle;\n",
       "    }\n",
       "\n",
       "    .dataframe tbody tr th {\n",
       "        vertical-align: top;\n",
       "    }\n",
       "\n",
       "    .dataframe thead th {\n",
       "        text-align: right;\n",
       "    }\n",
       "</style>\n",
       "<table border=\"1\" class=\"dataframe\">\n",
       "  <thead>\n",
       "    <tr style=\"text-align: right;\">\n",
       "      <th></th>\n",
       "      <th>sales</th>\n",
       "      <th>value</th>\n",
       "    </tr>\n",
       "    <tr>\n",
       "      <th>category</th>\n",
       "      <th></th>\n",
       "      <th></th>\n",
       "    </tr>\n",
       "  </thead>\n",
       "  <tbody>\n",
       "    <tr>\n",
       "      <th>Boots</th>\n",
       "      <td>36</td>\n",
       "      <td>69.18</td>\n",
       "    </tr>\n",
       "    <tr>\n",
       "      <th>Bra</th>\n",
       "      <td>18</td>\n",
       "      <td>22.38</td>\n",
       "    </tr>\n",
       "    <tr>\n",
       "      <th>Dress</th>\n",
       "      <td>78</td>\n",
       "      <td>188.04</td>\n",
       "    </tr>\n",
       "    <tr>\n",
       "      <th>Gloves</th>\n",
       "      <td>30</td>\n",
       "      <td>43.38</td>\n",
       "    </tr>\n",
       "    <tr>\n",
       "      <th>Hat</th>\n",
       "      <td>30</td>\n",
       "      <td>37.02</td>\n",
       "    </tr>\n",
       "    <tr>\n",
       "      <th>Highheels</th>\n",
       "      <td>60</td>\n",
       "      <td>113.70</td>\n",
       "    </tr>\n",
       "    <tr>\n",
       "      <th>Hoodies</th>\n",
       "      <td>54</td>\n",
       "      <td>123.18</td>\n",
       "    </tr>\n",
       "    <tr>\n",
       "      <th>Jacket</th>\n",
       "      <td>36</td>\n",
       "      <td>91.02</td>\n",
       "    </tr>\n",
       "    <tr>\n",
       "      <th>Jeans</th>\n",
       "      <td>72</td>\n",
       "      <td>121.14</td>\n",
       "    </tr>\n",
       "    <tr>\n",
       "      <th>Leatherjackets</th>\n",
       "      <td>30</td>\n",
       "      <td>67.08</td>\n",
       "    </tr>\n",
       "    <tr>\n",
       "      <th>Longcoat</th>\n",
       "      <td>18</td>\n",
       "      <td>51.84</td>\n",
       "    </tr>\n",
       "    <tr>\n",
       "      <th>Poloshirt</th>\n",
       "      <td>36</td>\n",
       "      <td>75.72</td>\n",
       "    </tr>\n",
       "    <tr>\n",
       "      <th>Scarf</th>\n",
       "      <td>6</td>\n",
       "      <td>14.52</td>\n",
       "    </tr>\n",
       "    <tr>\n",
       "      <th>Shirt</th>\n",
       "      <td>24</td>\n",
       "      <td>58.56</td>\n",
       "    </tr>\n",
       "    <tr>\n",
       "      <th>Shoes</th>\n",
       "      <td>84</td>\n",
       "      <td>203.70</td>\n",
       "    </tr>\n",
       "    <tr>\n",
       "      <th>Shorts</th>\n",
       "      <td>36</td>\n",
       "      <td>96.42</td>\n",
       "    </tr>\n",
       "    <tr>\n",
       "      <th>Skirt</th>\n",
       "      <td>48</td>\n",
       "      <td>78.18</td>\n",
       "    </tr>\n",
       "    <tr>\n",
       "      <th>Sunglasses</th>\n",
       "      <td>24</td>\n",
       "      <td>60.06</td>\n",
       "    </tr>\n",
       "    <tr>\n",
       "      <th>Sweater</th>\n",
       "      <td>108</td>\n",
       "      <td>187.08</td>\n",
       "    </tr>\n",
       "    <tr>\n",
       "      <th>Swimsuit</th>\n",
       "      <td>12</td>\n",
       "      <td>28.44</td>\n",
       "    </tr>\n",
       "    <tr>\n",
       "      <th>T-shirt</th>\n",
       "      <td>192</td>\n",
       "      <td>396.78</td>\n",
       "    </tr>\n",
       "  </tbody>\n",
       "</table>\n",
       "</div>"
      ],
      "text/plain": [
       "                sales   value\n",
       "category                     \n",
       "Boots              36   69.18\n",
       "Bra                18   22.38\n",
       "Dress              78  188.04\n",
       "Gloves             30   43.38\n",
       "Hat                30   37.02\n",
       "Highheels          60  113.70\n",
       "Hoodies            54  123.18\n",
       "Jacket             36   91.02\n",
       "Jeans              72  121.14\n",
       "Leatherjackets     30   67.08\n",
       "Longcoat           18   51.84\n",
       "Poloshirt          36   75.72\n",
       "Scarf               6   14.52\n",
       "Shirt              24   58.56\n",
       "Shoes              84  203.70\n",
       "Shorts             36   96.42\n",
       "Skirt              48   78.18\n",
       "Sunglasses         24   60.06\n",
       "Sweater           108  187.08\n",
       "Swimsuit           12   28.44\n",
       "T-shirt           192  396.78"
      ]
     },
     "execution_count": 36,
     "metadata": {},
     "output_type": "execute_result"
    }
   ],
   "source": [
    "pt_category_09_cumulative"
   ]
  },
  {
   "cell_type": "code",
   "execution_count": 37,
   "metadata": {},
   "outputs": [
    {
     "data": {
      "image/png": "[encoded data removed]",
      "text/plain": [
       "<Figure size 432x288 with 1 Axes>"
      ]
     },
     "metadata": {
      "needs_background": "light"
     },
     "output_type": "display_data"
    }
   ],
   "source": [
    "plot_cat_cumltv =pt_category_09_cumulative.plot(title='Sales value and volume in September (cumulative yoy)', kind='bar')\n",
    "fig_cumlt = plot_cat_cumltv.get_figure()\n",
    "fig_cumlt.savefig('/home/monika/Pulpit/Analiza ML Deep L/fig09.png')"
   ]
  },
  {
   "cell_type": "code",
   "execution_count": 38,
   "metadata": {},
   "outputs": [
    {
     "name": "stdout",
     "output_type": "stream",
     "text": [
      "Show sales in September and only chosen T-shirts\n"
     ]
    },
    {
     "data": {
      "text/html": [
       "<div>\n",
       "<style scoped>\n",
       "    .dataframe tbody tr th:only-of-type {\n",
       "        vertical-align: middle;\n",
       "    }\n",
       "\n",
       "    .dataframe tbody tr th {\n",
       "        vertical-align: top;\n",
       "    }\n",
       "\n",
       "    .dataframe thead th {\n",
       "        text-align: right;\n",
       "    }\n",
       "</style>\n",
       "<table border=\"1\" class=\"dataframe\">\n",
       "  <thead>\n",
       "    <tr style=\"text-align: right;\">\n",
       "      <th></th>\n",
       "      <th>id</th>\n",
       "      <th>date</th>\n",
       "      <th>product</th>\n",
       "      <th>category</th>\n",
       "      <th>value</th>\n",
       "      <th>month</th>\n",
       "      <th>sales</th>\n",
       "    </tr>\n",
       "  </thead>\n",
       "  <tbody>\n",
       "    <tr>\n",
       "      <th>83</th>\n",
       "      <td>25244739299</td>\n",
       "      <td>05/09/19</td>\n",
       "      <td>IBLFRO</td>\n",
       "      <td>T-shirt</td>\n",
       "      <td>333</td>\n",
       "      <td>09</td>\n",
       "      <td>1</td>\n",
       "    </tr>\n",
       "    <tr>\n",
       "      <th>113</th>\n",
       "      <td>62249308599</td>\n",
       "      <td>13/09/18</td>\n",
       "      <td>HW491Y</td>\n",
       "      <td>T-shirt</td>\n",
       "      <td>268</td>\n",
       "      <td>09</td>\n",
       "      <td>1</td>\n",
       "    </tr>\n",
       "    <tr>\n",
       "      <th>290</th>\n",
       "      <td>69490938599</td>\n",
       "      <td>04/09/17</td>\n",
       "      <td>DU1VY1</td>\n",
       "      <td>T-shirt</td>\n",
       "      <td>147</td>\n",
       "      <td>09</td>\n",
       "      <td>1</td>\n",
       "    </tr>\n",
       "    <tr>\n",
       "      <th>296</th>\n",
       "      <td>98315097699</td>\n",
       "      <td>26/09/19</td>\n",
       "      <td>GGK9JS</td>\n",
       "      <td>T-shirt</td>\n",
       "      <td>54</td>\n",
       "      <td>09</td>\n",
       "      <td>1</td>\n",
       "    </tr>\n",
       "    <tr>\n",
       "      <th>391</th>\n",
       "      <td>69490938599</td>\n",
       "      <td>04/09/17</td>\n",
       "      <td>DU1VY1</td>\n",
       "      <td>T-shirt</td>\n",
       "      <td>147</td>\n",
       "      <td>09</td>\n",
       "      <td>1</td>\n",
       "    </tr>\n",
       "    <tr>\n",
       "      <th>397</th>\n",
       "      <td>98315097699</td>\n",
       "      <td>26/09/19</td>\n",
       "      <td>GGK9JS</td>\n",
       "      <td>T-shirt</td>\n",
       "      <td>54</td>\n",
       "      <td>09</td>\n",
       "      <td>1</td>\n",
       "    </tr>\n",
       "    <tr>\n",
       "      <th>460</th>\n",
       "      <td>49898553099</td>\n",
       "      <td>24/09/19</td>\n",
       "      <td>RJ95LI</td>\n",
       "      <td>T-shirt</td>\n",
       "      <td>283</td>\n",
       "      <td>09</td>\n",
       "      <td>1</td>\n",
       "    </tr>\n",
       "    <tr>\n",
       "      <th>594</th>\n",
       "      <td>40716369999</td>\n",
       "      <td>19/09/17</td>\n",
       "      <td>HFFNZW</td>\n",
       "      <td>T-shirt</td>\n",
       "      <td>187</td>\n",
       "      <td>09</td>\n",
       "      <td>1</td>\n",
       "    </tr>\n",
       "    <tr>\n",
       "      <th>616</th>\n",
       "      <td>12962901499</td>\n",
       "      <td>14/09/17</td>\n",
       "      <td>UPYRQT</td>\n",
       "      <td>T-shirt</td>\n",
       "      <td>166</td>\n",
       "      <td>09</td>\n",
       "      <td>1</td>\n",
       "    </tr>\n",
       "    <tr>\n",
       "      <th>647</th>\n",
       "      <td>45459884199</td>\n",
       "      <td>18/09/18</td>\n",
       "      <td>FX0FAV</td>\n",
       "      <td>T-shirt</td>\n",
       "      <td>166</td>\n",
       "      <td>09</td>\n",
       "      <td>1</td>\n",
       "    </tr>\n",
       "  </tbody>\n",
       "</table>\n",
       "</div>"
      ],
      "text/plain": [
       "              id      date product category value month  sales\n",
       "83   25244739299  05/09/19  IBLFRO  T-shirt   333    09      1\n",
       "113  62249308599  13/09/18  HW491Y  T-shirt   268    09      1\n",
       "290  69490938599  04/09/17  DU1VY1  T-shirt   147    09      1\n",
       "296  98315097699  26/09/19  GGK9JS  T-shirt    54    09      1\n",
       "391  69490938599  04/09/17  DU1VY1  T-shirt   147    09      1\n",
       "397  98315097699  26/09/19  GGK9JS  T-shirt    54    09      1\n",
       "460  49898553099  24/09/19  RJ95LI  T-shirt   283    09      1\n",
       "594  40716369999  19/09/17  HFFNZW  T-shirt   187    09      1\n",
       "616  12962901499  14/09/17  UPYRQT  T-shirt   166    09      1\n",
       "647  45459884199  18/09/18  FX0FAV  T-shirt   166    09      1"
      ]
     },
     "metadata": {},
     "output_type": "display_data"
    }
   ],
   "source": [
    "print(\"Show sales in September and only chosen T-shirts\")\n",
    "display(df.loc[(df.month == \"09\") & (df.category == \"T-shirt\")].head(10))"
   ]
  },
  {
   "cell_type": "code",
   "execution_count": 39,
   "metadata": {},
   "outputs": [
    {
     "data": {
      "text/html": [
       "<div>\n",
       "<style scoped>\n",
       "    .dataframe tbody tr th:only-of-type {\n",
       "        vertical-align: middle;\n",
       "    }\n",
       "\n",
       "    .dataframe tbody tr th {\n",
       "        vertical-align: top;\n",
       "    }\n",
       "\n",
       "    .dataframe thead th {\n",
       "        text-align: right;\n",
       "    }\n",
       "</style>\n",
       "<table border=\"1\" class=\"dataframe\">\n",
       "  <thead>\n",
       "    <tr style=\"text-align: right;\">\n",
       "      <th></th>\n",
       "      <th>id</th>\n",
       "      <th>date</th>\n",
       "      <th>product</th>\n",
       "      <th>category</th>\n",
       "      <th>value</th>\n",
       "      <th>month</th>\n",
       "      <th>sales</th>\n",
       "    </tr>\n",
       "  </thead>\n",
       "  <tbody>\n",
       "    <tr>\n",
       "      <th>88</th>\n",
       "      <td>55363963399</td>\n",
       "      <td>29/03/19</td>\n",
       "      <td>KYOV3U</td>\n",
       "      <td>T-shirt</td>\n",
       "      <td>135</td>\n",
       "      <td>03</td>\n",
       "      <td>1</td>\n",
       "    </tr>\n",
       "    <tr>\n",
       "      <th>105</th>\n",
       "      <td>504190299</td>\n",
       "      <td>29/01/17</td>\n",
       "      <td>EMFBX6</td>\n",
       "      <td>Skirt</td>\n",
       "      <td>96</td>\n",
       "      <td>01</td>\n",
       "      <td>1</td>\n",
       "    </tr>\n",
       "    <tr>\n",
       "      <th>110</th>\n",
       "      <td>27642526599</td>\n",
       "      <td>28/11/19</td>\n",
       "      <td>32DCQA</td>\n",
       "      <td>T-shirt</td>\n",
       "      <td>42</td>\n",
       "      <td>11</td>\n",
       "      <td>1</td>\n",
       "    </tr>\n",
       "    <tr>\n",
       "      <th>185</th>\n",
       "      <td>17718100299</td>\n",
       "      <td>30/12/18</td>\n",
       "      <td>0QWACO</td>\n",
       "      <td>Skirt</td>\n",
       "      <td>149</td>\n",
       "      <td>12</td>\n",
       "      <td>1</td>\n",
       "    </tr>\n",
       "    <tr>\n",
       "      <th>209</th>\n",
       "      <td>94592148299</td>\n",
       "      <td>29/04/17</td>\n",
       "      <td>K9FI4E</td>\n",
       "      <td>Skirt</td>\n",
       "      <td>250</td>\n",
       "      <td>04</td>\n",
       "      <td>1</td>\n",
       "    </tr>\n",
       "    <tr>\n",
       "      <th>212</th>\n",
       "      <td>75715771099</td>\n",
       "      <td>26/12/17</td>\n",
       "      <td>JS62RN</td>\n",
       "      <td>T-shirt</td>\n",
       "      <td>282</td>\n",
       "      <td>12</td>\n",
       "      <td>1</td>\n",
       "    </tr>\n",
       "    <tr>\n",
       "      <th>227</th>\n",
       "      <td>78547146899</td>\n",
       "      <td>31/12/19</td>\n",
       "      <td>MJAPRV</td>\n",
       "      <td>T-shirt</td>\n",
       "      <td>252</td>\n",
       "      <td>12</td>\n",
       "      <td>1</td>\n",
       "    </tr>\n",
       "    <tr>\n",
       "      <th>260</th>\n",
       "      <td>1904675899</td>\n",
       "      <td>30/06/19</td>\n",
       "      <td>C1HO43</td>\n",
       "      <td>T-shirt</td>\n",
       "      <td>275</td>\n",
       "      <td>06</td>\n",
       "      <td>1</td>\n",
       "    </tr>\n",
       "    <tr>\n",
       "      <th>272</th>\n",
       "      <td>96548147199</td>\n",
       "      <td>27/08/19</td>\n",
       "      <td>OK5YAZ</td>\n",
       "      <td>T-shirt</td>\n",
       "      <td>72</td>\n",
       "      <td>08</td>\n",
       "      <td>1</td>\n",
       "    </tr>\n",
       "    <tr>\n",
       "      <th>310</th>\n",
       "      <td>94592148299</td>\n",
       "      <td>29/04/17</td>\n",
       "      <td>K9FI4E</td>\n",
       "      <td>Skirt</td>\n",
       "      <td>250</td>\n",
       "      <td>04</td>\n",
       "      <td>1</td>\n",
       "    </tr>\n",
       "  </tbody>\n",
       "</table>\n",
       "</div>"
      ],
      "text/plain": [
       "              id      date product category value month  sales\n",
       "88   55363963399  29/03/19  KYOV3U  T-shirt   135    03      1\n",
       "105    504190299  29/01/17  EMFBX6    Skirt    96    01      1\n",
       "110  27642526599  28/11/19  32DCQA  T-shirt    42    11      1\n",
       "185  17718100299  30/12/18  0QWACO    Skirt   149    12      1\n",
       "209  94592148299  29/04/17  K9FI4E    Skirt   250    04      1\n",
       "212  75715771099  26/12/17  JS62RN  T-shirt   282    12      1\n",
       "227  78547146899  31/12/19  MJAPRV  T-shirt   252    12      1\n",
       "260   1904675899  30/06/19  C1HO43  T-shirt   275    06      1\n",
       "272  96548147199  27/08/19  OK5YAZ  T-shirt    72    08      1\n",
       "310  94592148299  29/04/17  K9FI4E    Skirt   250    04      1"
      ]
     },
     "metadata": {},
     "output_type": "display_data"
    }
   ],
   "source": [
    "dateLimit = '26/09/19'\n",
    "catLimit = [\"T-shirt\", \"Skirt\"]\n",
    "display(df.query('date > @dateLimit and category in @catLimit').head(10))"
   ]
  },
  {
   "cell_type": "markdown",
   "metadata": {},
   "source": [
    "## 4. Analysis - show sales in 2017 "
   ]
  },
  {
   "cell_type": "code",
   "execution_count": 40,
   "metadata": {},
   "outputs": [],
   "source": [
    "condition_17 =df['date'].str.endswith('17')"
   ]
  },
  {
   "cell_type": "code",
   "execution_count": 41,
   "metadata": {},
   "outputs": [],
   "source": [
    "df_17=df[condition_17]"
   ]
  },
  {
   "cell_type": "code",
   "execution_count": 42,
   "metadata": {},
   "outputs": [
    {
     "name": "stdout",
     "output_type": "stream",
     "text": [
      "<class 'pandas.core.frame.DataFrame'>\n",
      "Int64Index: 3960 entries, 1 to 12117\n",
      "Data columns (total 7 columns):\n",
      "id          3960 non-null object\n",
      "date        3960 non-null object\n",
      "product     3960 non-null object\n",
      "category    3960 non-null object\n",
      "value       3960 non-null object\n",
      "month       3960 non-null object\n",
      "sales       3960 non-null int64\n",
      "dtypes: int64(1), object(6)\n",
      "memory usage: 247.5+ KB\n"
     ]
    }
   ],
   "source": [
    "df_17.info()"
   ]
  },
  {
   "cell_type": "code",
   "execution_count": 43,
   "metadata": {},
   "outputs": [],
   "source": [
    "column = df_17['value'].astype('int')"
   ]
  },
  {
   "cell_type": "code",
   "execution_count": 44,
   "metadata": {},
   "outputs": [
    {
     "name": "stderr",
     "output_type": "stream",
     "text": [
      "/home/monika/anaconda3/lib/python3.7/site-packages/ipykernel_launcher.py:1: SettingWithCopyWarning: \n",
      "A value is trying to be set on a copy of a slice from a DataFrame.\n",
      "Try using .loc[row_indexer,col_indexer] = value instead\n",
      "\n",
      "See the caveats in the documentation: http://pandas.pydata.org/pandas-docs/stable/indexing.html#indexing-view-versus-copy\n",
      "  \"\"\"Entry point for launching an IPython kernel.\n"
     ]
    }
   ],
   "source": [
    "df_17['value']=column"
   ]
  },
  {
   "cell_type": "code",
   "execution_count": 45,
   "metadata": {},
   "outputs": [],
   "source": [
    "pt_sales_17 = df_17.pivot_table(index='month', values =['sales', 'value'], aggfunc={'sales':'sum', 'value':'sum'})"
   ]
  },
  {
   "cell_type": "code",
   "execution_count": 46,
   "metadata": {},
   "outputs": [],
   "source": [
    "pt_sales_17['value']/=100"
   ]
  },
  {
   "cell_type": "code",
   "execution_count": 47,
   "metadata": {},
   "outputs": [
    {
     "data": {
      "text/html": [
       "<div>\n",
       "<style scoped>\n",
       "    .dataframe tbody tr th:only-of-type {\n",
       "        vertical-align: middle;\n",
       "    }\n",
       "\n",
       "    .dataframe tbody tr th {\n",
       "        vertical-align: top;\n",
       "    }\n",
       "\n",
       "    .dataframe thead th {\n",
       "        text-align: right;\n",
       "    }\n",
       "</style>\n",
       "<table border=\"1\" class=\"dataframe\">\n",
       "  <thead>\n",
       "    <tr style=\"text-align: right;\">\n",
       "      <th></th>\n",
       "      <th>sales</th>\n",
       "      <th>value</th>\n",
       "    </tr>\n",
       "    <tr>\n",
       "      <th>month</th>\n",
       "      <th></th>\n",
       "      <th></th>\n",
       "    </tr>\n",
       "  </thead>\n",
       "  <tbody>\n",
       "    <tr>\n",
       "      <th>01</th>\n",
       "      <td>414</td>\n",
       "      <td>821.04</td>\n",
       "    </tr>\n",
       "    <tr>\n",
       "      <th>02</th>\n",
       "      <td>294</td>\n",
       "      <td>531.96</td>\n",
       "    </tr>\n",
       "    <tr>\n",
       "      <th>03</th>\n",
       "      <td>300</td>\n",
       "      <td>620.46</td>\n",
       "    </tr>\n",
       "    <tr>\n",
       "      <th>04</th>\n",
       "      <td>432</td>\n",
       "      <td>816.18</td>\n",
       "    </tr>\n",
       "    <tr>\n",
       "      <th>05</th>\n",
       "      <td>258</td>\n",
       "      <td>487.98</td>\n",
       "    </tr>\n",
       "    <tr>\n",
       "      <th>06</th>\n",
       "      <td>300</td>\n",
       "      <td>563.52</td>\n",
       "    </tr>\n",
       "    <tr>\n",
       "      <th>07</th>\n",
       "      <td>360</td>\n",
       "      <td>689.58</td>\n",
       "    </tr>\n",
       "    <tr>\n",
       "      <th>08</th>\n",
       "      <td>354</td>\n",
       "      <td>705.60</td>\n",
       "    </tr>\n",
       "    <tr>\n",
       "      <th>09</th>\n",
       "      <td>354</td>\n",
       "      <td>750.66</td>\n",
       "    </tr>\n",
       "    <tr>\n",
       "      <th>10</th>\n",
       "      <td>342</td>\n",
       "      <td>653.52</td>\n",
       "    </tr>\n",
       "    <tr>\n",
       "      <th>11</th>\n",
       "      <td>300</td>\n",
       "      <td>608.64</td>\n",
       "    </tr>\n",
       "    <tr>\n",
       "      <th>12</th>\n",
       "      <td>252</td>\n",
       "      <td>499.56</td>\n",
       "    </tr>\n",
       "  </tbody>\n",
       "</table>\n",
       "</div>"
      ],
      "text/plain": [
       "       sales   value\n",
       "month               \n",
       "01       414  821.04\n",
       "02       294  531.96\n",
       "03       300  620.46\n",
       "04       432  816.18\n",
       "05       258  487.98\n",
       "06       300  563.52\n",
       "07       360  689.58\n",
       "08       354  705.60\n",
       "09       354  750.66\n",
       "10       342  653.52\n",
       "11       300  608.64\n",
       "12       252  499.56"
      ]
     },
     "execution_count": 47,
     "metadata": {},
     "output_type": "execute_result"
    }
   ],
   "source": [
    "pt_sales_17"
   ]
  },
  {
   "cell_type": "code",
   "execution_count": 48,
   "metadata": {},
   "outputs": [
    {
     "data": {
      "image/png": "[encoded data removed]",
      "text/plain": [
       "<Figure size 432x288 with 1 Axes>"
      ]
     },
     "metadata": {
      "needs_background": "light"
     },
     "output_type": "display_data"
    }
   ],
   "source": [
    "plot_17 = pt_sales_17.plot(title='Value and sales revenue in 2017', kind='bar')\n",
    "fig_17 = plot_17.get_figure()\n",
    "fig_17.savefig('/home/monika/Pulpit/Analiza ML Deep L/fig17.png', transparent = True)"
   ]
  },
  {
   "cell_type": "markdown",
   "metadata": {},
   "source": [
    "## 5. Analysis - show sales in 2018"
   ]
  },
  {
   "cell_type": "code",
   "execution_count": 49,
   "metadata": {},
   "outputs": [],
   "source": [
    "condition_18 =df['date'].str.endswith('18')"
   ]
  },
  {
   "cell_type": "code",
   "execution_count": 50,
   "metadata": {},
   "outputs": [],
   "source": [
    "df_18=df[condition_18]"
   ]
  },
  {
   "cell_type": "code",
   "execution_count": 51,
   "metadata": {},
   "outputs": [
    {
     "name": "stdout",
     "output_type": "stream",
     "text": [
      "<class 'pandas.core.frame.DataFrame'>\n",
      "Int64Index: 3852 entries, 3 to 12118\n",
      "Data columns (total 7 columns):\n",
      "id          3852 non-null object\n",
      "date        3852 non-null object\n",
      "product     3852 non-null object\n",
      "category    3852 non-null object\n",
      "value       3852 non-null object\n",
      "month       3852 non-null object\n",
      "sales       3852 non-null int64\n",
      "dtypes: int64(1), object(6)\n",
      "memory usage: 240.8+ KB\n"
     ]
    }
   ],
   "source": [
    "df_18.info()"
   ]
  },
  {
   "cell_type": "code",
   "execution_count": 52,
   "metadata": {},
   "outputs": [],
   "source": [
    "column = df_18['value'].astype('int')"
   ]
  },
  {
   "cell_type": "code",
   "execution_count": 53,
   "metadata": {},
   "outputs": [
    {
     "name": "stderr",
     "output_type": "stream",
     "text": [
      "/home/monika/anaconda3/lib/python3.7/site-packages/ipykernel_launcher.py:1: SettingWithCopyWarning: \n",
      "A value is trying to be set on a copy of a slice from a DataFrame.\n",
      "Try using .loc[row_indexer,col_indexer] = value instead\n",
      "\n",
      "See the caveats in the documentation: http://pandas.pydata.org/pandas-docs/stable/indexing.html#indexing-view-versus-copy\n",
      "  \"\"\"Entry point for launching an IPython kernel.\n"
     ]
    }
   ],
   "source": [
    "df_18['value']=column"
   ]
  },
  {
   "cell_type": "code",
   "execution_count": 54,
   "metadata": {},
   "outputs": [],
   "source": [
    "pt_sales_18 = df_18.pivot_table(index='month', values =['sales', 'value'], aggfunc={'sales':'sum', 'value':'sum'})"
   ]
  },
  {
   "cell_type": "code",
   "execution_count": 55,
   "metadata": {},
   "outputs": [],
   "source": [
    "pt_sales_18['value']/=100"
   ]
  },
  {
   "cell_type": "code",
   "execution_count": 56,
   "metadata": {},
   "outputs": [
    {
     "data": {
      "text/html": [
       "<div>\n",
       "<style scoped>\n",
       "    .dataframe tbody tr th:only-of-type {\n",
       "        vertical-align: middle;\n",
       "    }\n",
       "\n",
       "    .dataframe tbody tr th {\n",
       "        vertical-align: top;\n",
       "    }\n",
       "\n",
       "    .dataframe thead th {\n",
       "        text-align: right;\n",
       "    }\n",
       "</style>\n",
       "<table border=\"1\" class=\"dataframe\">\n",
       "  <thead>\n",
       "    <tr style=\"text-align: right;\">\n",
       "      <th></th>\n",
       "      <th>sales</th>\n",
       "      <th>value</th>\n",
       "    </tr>\n",
       "    <tr>\n",
       "      <th>month</th>\n",
       "      <th></th>\n",
       "      <th></th>\n",
       "    </tr>\n",
       "  </thead>\n",
       "  <tbody>\n",
       "    <tr>\n",
       "      <th>01</th>\n",
       "      <td>378</td>\n",
       "      <td>735.60</td>\n",
       "    </tr>\n",
       "    <tr>\n",
       "      <th>02</th>\n",
       "      <td>258</td>\n",
       "      <td>444.42</td>\n",
       "    </tr>\n",
       "    <tr>\n",
       "      <th>03</th>\n",
       "      <td>330</td>\n",
       "      <td>691.20</td>\n",
       "    </tr>\n",
       "    <tr>\n",
       "      <th>04</th>\n",
       "      <td>294</td>\n",
       "      <td>546.30</td>\n",
       "    </tr>\n",
       "    <tr>\n",
       "      <th>05</th>\n",
       "      <td>306</td>\n",
       "      <td>607.86</td>\n",
       "    </tr>\n",
       "    <tr>\n",
       "      <th>06</th>\n",
       "      <td>324</td>\n",
       "      <td>563.64</td>\n",
       "    </tr>\n",
       "    <tr>\n",
       "      <th>07</th>\n",
       "      <td>240</td>\n",
       "      <td>440.34</td>\n",
       "    </tr>\n",
       "    <tr>\n",
       "      <th>08</th>\n",
       "      <td>426</td>\n",
       "      <td>865.02</td>\n",
       "    </tr>\n",
       "    <tr>\n",
       "      <th>09</th>\n",
       "      <td>318</td>\n",
       "      <td>646.08</td>\n",
       "    </tr>\n",
       "    <tr>\n",
       "      <th>10</th>\n",
       "      <td>288</td>\n",
       "      <td>538.50</td>\n",
       "    </tr>\n",
       "    <tr>\n",
       "      <th>11</th>\n",
       "      <td>330</td>\n",
       "      <td>693.90</td>\n",
       "    </tr>\n",
       "    <tr>\n",
       "      <th>12</th>\n",
       "      <td>360</td>\n",
       "      <td>733.38</td>\n",
       "    </tr>\n",
       "  </tbody>\n",
       "</table>\n",
       "</div>"
      ],
      "text/plain": [
       "       sales   value\n",
       "month               \n",
       "01       378  735.60\n",
       "02       258  444.42\n",
       "03       330  691.20\n",
       "04       294  546.30\n",
       "05       306  607.86\n",
       "06       324  563.64\n",
       "07       240  440.34\n",
       "08       426  865.02\n",
       "09       318  646.08\n",
       "10       288  538.50\n",
       "11       330  693.90\n",
       "12       360  733.38"
      ]
     },
     "execution_count": 56,
     "metadata": {},
     "output_type": "execute_result"
    }
   ],
   "source": [
    "pt_sales_18"
   ]
  },
  {
   "cell_type": "code",
   "execution_count": 57,
   "metadata": {},
   "outputs": [
    {
     "data": {
      "image/png": "[encoded data removed]",
      "text/plain": [
       "<Figure size 432x288 with 1 Axes>"
      ]
     },
     "metadata": {
      "needs_background": "light"
     },
     "output_type": "display_data"
    }
   ],
   "source": [
    "plot_18 = pt_sales_18.plot(title='Volume and sales revenue in 2018', kind='bar')\n",
    "fig_18 = plot_18.get_figure()\n",
    "fig_18.savefig('/home/monika/Pulpit/Analiza ML Deep L/fig18.png', transparent = True)"
   ]
  },
  {
   "cell_type": "markdown",
   "metadata": {},
   "source": [
    "## 6.Analysis - show sales in 2019"
   ]
  },
  {
   "cell_type": "code",
   "execution_count": 58,
   "metadata": {},
   "outputs": [],
   "source": [
    "condition =df['date'].str.endswith('19')"
   ]
  },
  {
   "cell_type": "code",
   "execution_count": 59,
   "metadata": {},
   "outputs": [],
   "source": [
    "df_19=df[condition]"
   ]
  },
  {
   "cell_type": "code",
   "execution_count": 60,
   "metadata": {},
   "outputs": [
    {
     "name": "stdout",
     "output_type": "stream",
     "text": [
      "<class 'pandas.core.frame.DataFrame'>\n",
      "Int64Index: 4158 entries, 0 to 12115\n",
      "Data columns (total 7 columns):\n",
      "id          4158 non-null object\n",
      "date        4158 non-null object\n",
      "product     4158 non-null object\n",
      "category    4158 non-null object\n",
      "value       4158 non-null object\n",
      "month       4158 non-null object\n",
      "sales       4158 non-null int64\n",
      "dtypes: int64(1), object(6)\n",
      "memory usage: 259.9+ KB\n"
     ]
    }
   ],
   "source": [
    "df_19.info()"
   ]
  },
  {
   "cell_type": "code",
   "execution_count": 61,
   "metadata": {},
   "outputs": [],
   "source": [
    "column = df_19['value'].astype('int')"
   ]
  },
  {
   "cell_type": "code",
   "execution_count": 62,
   "metadata": {},
   "outputs": [
    {
     "name": "stderr",
     "output_type": "stream",
     "text": [
      "/home/monika/anaconda3/lib/python3.7/site-packages/ipykernel_launcher.py:1: SettingWithCopyWarning: \n",
      "A value is trying to be set on a copy of a slice from a DataFrame.\n",
      "Try using .loc[row_indexer,col_indexer] = value instead\n",
      "\n",
      "See the caveats in the documentation: http://pandas.pydata.org/pandas-docs/stable/indexing.html#indexing-view-versus-copy\n",
      "  \"\"\"Entry point for launching an IPython kernel.\n"
     ]
    }
   ],
   "source": [
    "df_19['value']=column"
   ]
  },
  {
   "cell_type": "code",
   "execution_count": 63,
   "metadata": {},
   "outputs": [],
   "source": [
    "pt_sales = df_19.pivot_table(index='month', values =['sales', 'value'], aggfunc={'sales':'sum', 'value':'sum'})"
   ]
  },
  {
   "cell_type": "code",
   "execution_count": 64,
   "metadata": {},
   "outputs": [],
   "source": [
    "pt_sales['value']/=100"
   ]
  },
  {
   "cell_type": "code",
   "execution_count": 65,
   "metadata": {},
   "outputs": [
    {
     "data": {
      "text/html": [
       "<div>\n",
       "<style scoped>\n",
       "    .dataframe tbody tr th:only-of-type {\n",
       "        vertical-align: middle;\n",
       "    }\n",
       "\n",
       "    .dataframe tbody tr th {\n",
       "        vertical-align: top;\n",
       "    }\n",
       "\n",
       "    .dataframe thead th {\n",
       "        text-align: right;\n",
       "    }\n",
       "</style>\n",
       "<table border=\"1\" class=\"dataframe\">\n",
       "  <thead>\n",
       "    <tr style=\"text-align: right;\">\n",
       "      <th></th>\n",
       "      <th>sales</th>\n",
       "      <th>value</th>\n",
       "    </tr>\n",
       "    <tr>\n",
       "      <th>month</th>\n",
       "      <th></th>\n",
       "      <th></th>\n",
       "    </tr>\n",
       "  </thead>\n",
       "  <tbody>\n",
       "    <tr>\n",
       "      <th>01</th>\n",
       "      <td>330</td>\n",
       "      <td>603.36</td>\n",
       "    </tr>\n",
       "    <tr>\n",
       "      <th>02</th>\n",
       "      <td>348</td>\n",
       "      <td>685.14</td>\n",
       "    </tr>\n",
       "    <tr>\n",
       "      <th>03</th>\n",
       "      <td>270</td>\n",
       "      <td>556.74</td>\n",
       "    </tr>\n",
       "    <tr>\n",
       "      <th>04</th>\n",
       "      <td>336</td>\n",
       "      <td>609.90</td>\n",
       "    </tr>\n",
       "    <tr>\n",
       "      <th>05</th>\n",
       "      <td>414</td>\n",
       "      <td>836.34</td>\n",
       "    </tr>\n",
       "    <tr>\n",
       "      <th>06</th>\n",
       "      <td>378</td>\n",
       "      <td>761.46</td>\n",
       "    </tr>\n",
       "    <tr>\n",
       "      <th>07</th>\n",
       "      <td>438</td>\n",
       "      <td>872.52</td>\n",
       "    </tr>\n",
       "    <tr>\n",
       "      <th>08</th>\n",
       "      <td>348</td>\n",
       "      <td>611.28</td>\n",
       "    </tr>\n",
       "    <tr>\n",
       "      <th>09</th>\n",
       "      <td>360</td>\n",
       "      <td>730.68</td>\n",
       "    </tr>\n",
       "    <tr>\n",
       "      <th>10</th>\n",
       "      <td>264</td>\n",
       "      <td>471.54</td>\n",
       "    </tr>\n",
       "    <tr>\n",
       "      <th>11</th>\n",
       "      <td>336</td>\n",
       "      <td>614.40</td>\n",
       "    </tr>\n",
       "    <tr>\n",
       "      <th>12</th>\n",
       "      <td>336</td>\n",
       "      <td>695.82</td>\n",
       "    </tr>\n",
       "  </tbody>\n",
       "</table>\n",
       "</div>"
      ],
      "text/plain": [
       "       sales   value\n",
       "month               \n",
       "01       330  603.36\n",
       "02       348  685.14\n",
       "03       270  556.74\n",
       "04       336  609.90\n",
       "05       414  836.34\n",
       "06       378  761.46\n",
       "07       438  872.52\n",
       "08       348  611.28\n",
       "09       360  730.68\n",
       "10       264  471.54\n",
       "11       336  614.40\n",
       "12       336  695.82"
      ]
     },
     "execution_count": 65,
     "metadata": {},
     "output_type": "execute_result"
    }
   ],
   "source": [
    "pt_sales"
   ]
  },
  {
   "cell_type": "code",
   "execution_count": 66,
   "metadata": {
    "scrolled": true
   },
   "outputs": [
    {
     "data": {
      "image/png": "[encoded data removed]",
      "text/plain": [
       "<Figure size 432x288 with 1 Axes>"
      ]
     },
     "metadata": {
      "needs_background": "light"
     },
     "output_type": "display_data"
    }
   ],
   "source": [
    "plot = pt_sales.plot(title='Volume and sales revenue in 2019', kind='bar')\n",
    "fig = plot.get_figure()\n",
    "fig.savefig('/home/monika/Pulpit/Analiza ML Deep L/fig19.png', transparent = True)\n"
   ]
  },
  {
   "cell_type": "markdown",
   "metadata": {},
   "source": [
    "## 7. Analysis - show sales in September 2019"
   ]
  },
  {
   "cell_type": "code",
   "execution_count": 67,
   "metadata": {},
   "outputs": [],
   "source": [
    "df_09_19=df_19[df_19['month']=='09']"
   ]
  },
  {
   "cell_type": "code",
   "execution_count": 68,
   "metadata": {},
   "outputs": [
    {
     "name": "stdout",
     "output_type": "stream",
     "text": [
      "<class 'pandas.core.frame.DataFrame'>\n",
      "Int64Index: 360 entries, 37 to 12102\n",
      "Data columns (total 7 columns):\n",
      "id          360 non-null object\n",
      "date        360 non-null object\n",
      "product     360 non-null object\n",
      "category    360 non-null object\n",
      "value       360 non-null int64\n",
      "month       360 non-null object\n",
      "sales       360 non-null int64\n",
      "dtypes: int64(2), object(5)\n",
      "memory usage: 22.5+ KB\n"
     ]
    }
   ],
   "source": [
    "df_09_19.info()"
   ]
  },
  {
   "cell_type": "code",
   "execution_count": 69,
   "metadata": {},
   "outputs": [],
   "source": [
    "pt_category_09 = df_09_19.pivot_table(index='category', values ='value', aggfunc='sum')"
   ]
  },
  {
   "cell_type": "code",
   "execution_count": 70,
   "metadata": {},
   "outputs": [],
   "source": [
    "pt_category_09=pt_category_09.sort_values(by='value', ascending=False)"
   ]
  },
  {
   "cell_type": "code",
   "execution_count": 71,
   "metadata": {},
   "outputs": [
    {
     "data": {
      "text/html": [
       "<div>\n",
       "<style scoped>\n",
       "    .dataframe tbody tr th:only-of-type {\n",
       "        vertical-align: middle;\n",
       "    }\n",
       "\n",
       "    .dataframe tbody tr th {\n",
       "        vertical-align: top;\n",
       "    }\n",
       "\n",
       "    .dataframe thead th {\n",
       "        text-align: right;\n",
       "    }\n",
       "</style>\n",
       "<table border=\"1\" class=\"dataframe\">\n",
       "  <thead>\n",
       "    <tr style=\"text-align: right;\">\n",
       "      <th></th>\n",
       "      <th>value</th>\n",
       "    </tr>\n",
       "    <tr>\n",
       "      <th>category</th>\n",
       "      <th></th>\n",
       "    </tr>\n",
       "  </thead>\n",
       "  <tbody>\n",
       "    <tr>\n",
       "      <th>T-shirt</th>\n",
       "      <td>13680</td>\n",
       "    </tr>\n",
       "    <tr>\n",
       "      <th>Sweater</th>\n",
       "      <td>7050</td>\n",
       "    </tr>\n",
       "    <tr>\n",
       "      <th>Jeans</th>\n",
       "      <td>6678</td>\n",
       "    </tr>\n",
       "    <tr>\n",
       "      <th>Shoes</th>\n",
       "      <td>6624</td>\n",
       "    </tr>\n",
       "    <tr>\n",
       "      <th>Jacket</th>\n",
       "      <td>4830</td>\n",
       "    </tr>\n",
       "    <tr>\n",
       "      <th>Hoodies</th>\n",
       "      <td>4032</td>\n",
       "    </tr>\n",
       "    <tr>\n",
       "      <th>Dress</th>\n",
       "      <td>3984</td>\n",
       "    </tr>\n",
       "    <tr>\n",
       "      <th>Longcoat</th>\n",
       "      <td>3780</td>\n",
       "    </tr>\n",
       "    <tr>\n",
       "      <th>Boots</th>\n",
       "      <td>3420</td>\n",
       "    </tr>\n",
       "    <tr>\n",
       "      <th>Sunglasses</th>\n",
       "      <td>3180</td>\n",
       "    </tr>\n",
       "    <tr>\n",
       "      <th>Shirt</th>\n",
       "      <td>2928</td>\n",
       "    </tr>\n",
       "    <tr>\n",
       "      <th>Highheels</th>\n",
       "      <td>2826</td>\n",
       "    </tr>\n",
       "    <tr>\n",
       "      <th>Skirt</th>\n",
       "      <td>2736</td>\n",
       "    </tr>\n",
       "    <tr>\n",
       "      <th>Shorts</th>\n",
       "      <td>1794</td>\n",
       "    </tr>\n",
       "    <tr>\n",
       "      <th>Swimsuit</th>\n",
       "      <td>1422</td>\n",
       "    </tr>\n",
       "    <tr>\n",
       "      <th>Gloves</th>\n",
       "      <td>1278</td>\n",
       "    </tr>\n",
       "    <tr>\n",
       "      <th>Hat</th>\n",
       "      <td>1224</td>\n",
       "    </tr>\n",
       "    <tr>\n",
       "      <th>Poloshirt</th>\n",
       "      <td>1128</td>\n",
       "    </tr>\n",
       "    <tr>\n",
       "      <th>Leatherjackets</th>\n",
       "      <td>474</td>\n",
       "    </tr>\n",
       "  </tbody>\n",
       "</table>\n",
       "</div>"
      ],
      "text/plain": [
       "                value\n",
       "category             \n",
       "T-shirt         13680\n",
       "Sweater          7050\n",
       "Jeans            6678\n",
       "Shoes            6624\n",
       "Jacket           4830\n",
       "Hoodies          4032\n",
       "Dress            3984\n",
       "Longcoat         3780\n",
       "Boots            3420\n",
       "Sunglasses       3180\n",
       "Shirt            2928\n",
       "Highheels        2826\n",
       "Skirt            2736\n",
       "Shorts           1794\n",
       "Swimsuit         1422\n",
       "Gloves           1278\n",
       "Hat              1224\n",
       "Poloshirt        1128\n",
       "Leatherjackets    474"
      ]
     },
     "execution_count": 71,
     "metadata": {},
     "output_type": "execute_result"
    }
   ],
   "source": [
    "pt_category_09"
   ]
  },
  {
   "cell_type": "code",
   "execution_count": 72,
   "metadata": {
    "scrolled": true
   },
   "outputs": [
    {
     "data": {
      "image/png": "[encoded data removed]",
      "text/plain": [
       "<Figure size 432x288 with 1 Axes>"
      ]
     },
     "metadata": {
      "needs_background": "light"
     },
     "output_type": "display_data"
    }
   ],
   "source": [
    "\n",
    "plot_cat =pt_category_09.plot(title='Sales volume in September 2019', kind='bar')\n",
    "fig = plot_cat.get_figure()\n",
    "fig.savefig('/home/monika/Pulpit/Analiza ML Deep L/fig092019.png')"
   ]
  },
  {
   "cell_type": "markdown",
   "metadata": {},
   "source": [
    "## 8. Generate report (pdf)"
   ]
  },
  {
   "cell_type": "code",
   "execution_count": 73,
   "metadata": {},
   "outputs": [
    {
     "name": "stdout",
     "output_type": "stream",
     "text": [
      "Requirement already satisfied: WeasyPrint in ./anaconda3/lib/python3.7/site-packages (51)\n",
      "Requirement already satisfied: CairoSVG>=2.4.0 in ./anaconda3/lib/python3.7/site-packages (from WeasyPrint) (2.4.2)\n",
      "Requirement already satisfied: setuptools>=39.2.0 in ./anaconda3/lib/python3.7/site-packages (from WeasyPrint) (41.0.1)\n",
      "Requirement already satisfied: Pyphen>=0.9.1 in ./anaconda3/lib/python3.7/site-packages (from WeasyPrint) (0.9.5)\n",
      "Requirement already satisfied: cssselect2>=0.1 in ./anaconda3/lib/python3.7/site-packages (from WeasyPrint) (0.3.0)\n",
      "Requirement already satisfied: tinycss2>=1.0.0 in ./anaconda3/lib/python3.7/site-packages (from WeasyPrint) (1.0.2)\n",
      "Requirement already satisfied: cairocffi>=0.9.0 in ./anaconda3/lib/python3.7/site-packages (from WeasyPrint) (1.1.0)\n",
      "Requirement already satisfied: cffi>=0.6 in ./anaconda3/lib/python3.7/site-packages (from WeasyPrint) (1.12.3)\n",
      "Requirement already satisfied: html5lib>=0.999999999 in ./anaconda3/lib/python3.7/site-packages (from WeasyPrint) (1.0.1)\n",
      "Requirement already satisfied: pillow in ./anaconda3/lib/python3.7/site-packages (from CairoSVG>=2.4.0->WeasyPrint) (6.1.0)\n",
      "Requirement already satisfied: defusedxml in ./anaconda3/lib/python3.7/site-packages (from CairoSVG>=2.4.0->WeasyPrint) (0.6.0)\n",
      "Requirement already satisfied: webencodings in ./anaconda3/lib/python3.7/site-packages (from cssselect2>=0.1->WeasyPrint) (0.5.1)\n",
      "Requirement already satisfied: pycparser in ./anaconda3/lib/python3.7/site-packages (from cffi>=0.6->WeasyPrint) (2.19)\n",
      "Requirement already satisfied: six>=1.9 in ./anaconda3/lib/python3.7/site-packages (from html5lib>=0.999999999->WeasyPrint) (1.12.0)\n",
      "\u001b[33mWARNING: You are using pip version 20.2.2; however, version 20.2.3 is available.\n",
      "You should consider upgrading via the '/home/monika/anaconda3/bin/python -m pip install --upgrade pip' command.\u001b[0m\n",
      "Note: you may need to restart the kernel to use updated packages.\n"
     ]
    }
   ],
   "source": [
    " pip install WeasyPrint"
   ]
  },
  {
   "cell_type": "code",
   "execution_count": 74,
   "metadata": {},
   "outputs": [],
   "source": [
    "env = Environment(\n",
    "    loader=FileSystemLoader(\"/home/monika/Pulpit/Analiza ML Deep L\")\n",
    ")"
   ]
  },
  {
   "cell_type": "code",
   "execution_count": 75,
   "metadata": {},
   "outputs": [],
   "source": [
    "template = env.get_template(\"template.html\")"
   ]
  },
  {
   "cell_type": "code",
   "execution_count": 76,
   "metadata": {},
   "outputs": [],
   "source": [
    "context = {\n",
    "    'pt_value':pt_sales.to_html(classes='mystyle'),\n",
    "    'pt_category':pt_category_09.to_html(classes='mystyle'),\n",
    "}"
   ]
  },
  {
   "cell_type": "code",
   "execution_count": 77,
   "metadata": {},
   "outputs": [],
   "source": [
    "html_out=template.render(context)"
   ]
  },
  {
   "cell_type": "code",
   "execution_count": 78,
   "metadata": {},
   "outputs": [],
   "source": [
    "HTML(string=html_out, base_url=\"/home/monika/Pulpit/Analiza ML Deep L\").write_pdf(\"report.pdf\")"
   ]
  }
 ],
 "metadata": {
  "kernelspec": {
   "display_name": "Python 3",
   "language": "python",
   "name": "python3"
  },
  "language_info": {
   "codemirror_mode": {
    "name": "ipython",
    "version": 3
   },
   "file_extension": ".py",
   "mimetype": "text/x-python",
   "name": "python",
   "nbconvert_exporter": "python",
   "pygments_lexer": "ipython3",
   "version": "3.7.3"
  }
 },
 "nbformat": 4,
 "nbformat_minor": 2
}
